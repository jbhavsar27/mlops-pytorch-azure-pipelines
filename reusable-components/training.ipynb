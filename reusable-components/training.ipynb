{
 "cells": [
  {
   "cell_type": "code",
   "execution_count": 2,
   "metadata": {},
   "outputs": [
    {
     "name": "stdout",
     "output_type": "stream",
     "text": [
      "Writing Environments/create-environment.yml\n"
     ]
    }
   ],
   "source": [
    "%%writefile 'Environments/create-environment.yml'\n",
    "$schema: https://azuremlschemas.azureedge.net/latest/environment.schema.json\n",
    "name: transferlearning-pytorch\n",
    "version: 1\n",
    "image: mcr.microsoft.com/azureml/curated/pytorch-1.10-ubuntu18.04-py38-cuda11-gpu:36\n",
    "description: Training enviroment PyTorch 1.10 / CUDA 11 / GPU"
   ]
  },
  {
   "cell_type": "code",
   "execution_count": 3,
   "metadata": {},
   "outputs": [
    {
     "name": "stdout",
     "output_type": "stream",
     "text": [
      "\u001b[36mCommand group 'config' is experimental and under development. Reference and support levels: https://aka.ms/CLI_refstatus\u001b[0m\n",
      "\u001b[36mCommand group 'config' is experimental and under development. Reference and support levels: https://aka.ms/CLI_refstatus\u001b[0m\n",
      "{\n",
      "  \"creation_context\": {\n",
      "    \"created_at\": \"2024-06-22T19:24:32.698854+00:00\",\n",
      "    \"created_by\": \"Jinay Bhavsar\",\n",
      "    \"created_by_type\": \"User\",\n",
      "    \"last_modified_at\": \"2024-06-22T19:24:32.698854+00:00\",\n",
      "    \"last_modified_by\": \"Jinay Bhavsar\",\n",
      "    \"last_modified_by_type\": \"User\"\n",
      "  },\n",
      "  \"description\": \"Training enviroment PyTorch 1.10 / CUDA 11 / GPU\",\n",
      "  \"id\": \"azureml:/subscriptions/22419d70-5fbf-470c-8901-9f39256512ed/resourceGroups/personalFree/providers/Microsoft.MachineLearningServices/workspaces/testWorkspace/environments/transferlearning-pytorch/versions/1\",\n",
      "  \"image\": \"mcr.microsoft.com/azureml/curated/pytorch-1.10-ubuntu18.04-py38-cuda11-gpu:36\",\n",
      "  \"name\": \"transferlearning-pytorch\",\n",
      "  \"os_type\": \"linux\",\n",
      "  \"resourceGroup\": \"personalFree\",\n",
      "  \"tags\": {},\n",
      "  \"version\": \"1\"\n",
      "}\n",
      "\u001b[0m"
     ]
    }
   ],
   "source": [
    "!az config set defaults.workspace=\"testWorkspace\"\n",
    "!az config set defaults.group=\"personalFree\"     \n",
    "!az ml environment create --file Environments/create-environment.yml"
   ]
  },
  {
   "cell_type": "code",
   "execution_count": 35,
   "metadata": {},
   "outputs": [
    {
     "name": "stdout",
     "output_type": "stream",
     "text": [
      "Overwriting Components/train.yml\n"
     ]
    }
   ],
   "source": [
    "%%writefile 'Components/train.yml'\n",
    "$schema: https://azuremlschemas.azureedge.net/latest/commandComponent.schema.json\n",
    "type: command\n",
    "\n",
    "name: pytorch_train_model\n",
    "display_name: classification - Train model\n",
    "version: 1.2\n",
    "\n",
    "inputs:\n",
    "  training_data:\n",
    "    type: path\n",
    "  epochs:\n",
    "    type: integer\n",
    "    default: 8\n",
    "  learning_rate:\n",
    "    type: number\n",
    "    default: 0.001\n",
    "  momentum: \n",
    "    type: number\n",
    "    default: 0.9\n",
    "  tag: \n",
    "    type: string\n",
    "    default: \"pyTorch\"\n",
    "\n",
    "outputs:\n",
    "  train_output:\n",
    "    type: path\n",
    "\n",
    "code: ./src\n",
    "\n",
    "environment: azureml:transferlearning-pytorch:1\n",
    "\n",
    "command: python train.py --data_path ${{inputs.training_data}} --model_output_path ${{outputs.train_output}} --num_epochs ${{inputs.epochs}} --learning_rate ${{inputs.learning_rate}} --momentum ${{inputs.momentum}} --tag ${{inputs.tag}} \n"
   ]
  },
  {
   "cell_type": "code",
   "execution_count": 36,
   "metadata": {},
   "outputs": [
    {
     "name": "stdout",
     "output_type": "stream",
     "text": [
      "{\n",
      "  \"$schema\": \"https://azuremlschemas.azureedge.net/latest/commandComponent.schema.json\",\n",
      "  \"code\": \"azureml:/subscriptions/22419d70-5fbf-470c-8901-9f39256512ed/resourceGroups/personalFree/providers/Microsoft.MachineLearningServices/workspaces/testWorkspace/codes/249412e4-b434-4a03-958a-179c52fab0ac/versions/1\",\n",
      "  \"command\": \"python train.py --data_path ${{inputs.training_data}} --model_output_path ${{outputs.train_output}} --num_epochs ${{inputs.epochs}} --learning_rate ${{inputs.learning_rate}} --momentum ${{inputs.momentum}} --tag ${{inputs.tag}}\",\n",
      "  \"creation_context\": {\n",
      "    \"created_at\": \"2024-06-22T20:27:41.139386+00:00\",\n",
      "    \"created_by\": \"Jinay Bhavsar\",\n",
      "    \"created_by_type\": \"User\",\n",
      "    \"last_modified_at\": \"2024-06-22T20:27:41.271077+00:00\",\n",
      "    \"last_modified_by\": \"Jinay Bhavsar\",\n",
      "    \"last_modified_by_type\": \"User\"\n",
      "  },\n",
      "  \"display_name\": \"classification - Train model\",\n",
      "  \"environment\": \"azureml:/subscriptions/22419d70-5fbf-470c-8901-9f39256512ed/resourceGroups/personalFree/providers/Microsoft.MachineLearningServices/workspaces/testWorkspace/environments/transferlearning-pytorch/versions/1\",\n",
      "  \"id\": \"azureml:/subscriptions/22419d70-5fbf-470c-8901-9f39256512ed/resourceGroups/personalFree/providers/Microsoft.MachineLearningServices/workspaces/testWorkspace/components/pytorch_train_model/versions/1.2\",\n",
      "  \"inputs\": {\n",
      "    \"epochs\": {\n",
      "      \"default\": \"8\",\n",
      "      \"optional\": false,\n",
      "      \"type\": \"integer\"\n",
      "    },\n",
      "    \"learning_rate\": {\n",
      "      \"default\": \"0.001\",\n",
      "      \"optional\": false,\n",
      "      \"type\": \"number\"\n",
      "    },\n",
      "    \"momentum\": {\n",
      "      \"default\": \"0.9\",\n",
      "      \"optional\": false,\n",
      "      \"type\": \"number\"\n",
      "    },\n",
      "    \"tag\": {\n",
      "      \"default\": \"pyTorch\",\n",
      "      \"optional\": false,\n",
      "      \"type\": \"string\"\n",
      "    },\n",
      "    \"training_data\": {\n",
      "      \"optional\": false,\n",
      "      \"type\": \"path\"\n",
      "    }\n",
      "  },\n",
      "  \"is_deterministic\": true,\n",
      "  \"name\": \"pytorch_train_model\",\n",
      "  \"outputs\": {\n",
      "    \"train_output\": {\n",
      "      \"type\": \"path\"\n",
      "    }\n",
      "  },\n",
      "  \"resourceGroup\": \"personalFree\",\n",
      "  \"resources\": {\n",
      "    \"instance_count\": 1\n",
      "  },\n",
      "  \"type\": \"command\",\n",
      "  \"version\": \"1.2\"\n",
      "}\n",
      "\u001b[0m"
     ]
    }
   ],
   "source": [
    "!az ml component create --file Components/train.yml"
   ]
  },
  {
   "cell_type": "code",
   "execution_count": 31,
   "metadata": {},
   "outputs": [
    {
     "name": "stdout",
     "output_type": "stream",
     "text": [
      "Overwriting Components/register.yml\n"
     ]
    }
   ],
   "source": [
    "%%writefile 'Components/register.yml'\n",
    "$schema: https://azuremlschemas.azureedge.net/latest/commandComponent.schema.json\n",
    "type: command\n",
    "\n",
    "name: pytorch_register_model\n",
    "display_name: Register pyTorch model after run\n",
    "version: 1.1\n",
    "\n",
    "inputs:\n",
    "  model_assets_path:\n",
    "    type: path\n",
    "  model_name:\n",
    "    type: string\n",
    "    default: \"marvel-classification\"\n",
    "  model_file_name:\n",
    "    type: string\n",
    "    default: \"model.pth\"\n",
    "  label_file_name:\n",
    "    type: string\n",
    "    default: \"labels.txt\" \n",
    "\n",
    "code: ./src\n",
    "\n",
    "environment: azureml:transferlearning-pytorch:1\n",
    "\n",
    "command: python register.py --model_assets_path ${{inputs.model_assets_path}} --model_name ${{inputs.model_name}} --model_file_name ${{inputs.model_file_name}} --label_file_name ${{inputs.label_file_name}}\n"
   ]
  },
  {
   "cell_type": "code",
   "execution_count": 32,
   "metadata": {},
   "outputs": [
    {
     "name": "stdout",
     "output_type": "stream",
     "text": [
      "{\n",
      "  \"$schema\": \"https://azuremlschemas.azureedge.net/latest/commandComponent.schema.json\",\n",
      "  \"code\": \"azureml:/subscriptions/22419d70-5fbf-470c-8901-9f39256512ed/resourceGroups/personalFree/providers/Microsoft.MachineLearningServices/workspaces/testWorkspace/codes/249412e4-b434-4a03-958a-179c52fab0ac/versions/1\",\n",
      "  \"command\": \"python register.py --model_assets_path ${{inputs.model_assets_path}} --model_name ${{inputs.model_name}} --model_file_name ${{inputs.model_file_name}} --label_file_name ${{inputs.label_file_name}}\",\n",
      "  \"creation_context\": {\n",
      "    \"created_at\": \"2024-06-22T20:24:46.443079+00:00\",\n",
      "    \"created_by\": \"Jinay Bhavsar\",\n",
      "    \"created_by_type\": \"User\",\n",
      "    \"last_modified_at\": \"2024-06-22T20:24:46.536501+00:00\",\n",
      "    \"last_modified_by\": \"Jinay Bhavsar\",\n",
      "    \"last_modified_by_type\": \"User\"\n",
      "  },\n",
      "  \"display_name\": \"Register pyTorch model after run\",\n",
      "  \"environment\": \"azureml:/subscriptions/22419d70-5fbf-470c-8901-9f39256512ed/resourceGroups/personalFree/providers/Microsoft.MachineLearningServices/workspaces/testWorkspace/environments/transferlearning-pytorch/versions/1\",\n",
      "  \"id\": \"azureml:/subscriptions/22419d70-5fbf-470c-8901-9f39256512ed/resourceGroups/personalFree/providers/Microsoft.MachineLearningServices/workspaces/testWorkspace/components/pytorch_register_model/versions/1.1\",\n",
      "  \"inputs\": {\n",
      "    \"label_file_name\": {\n",
      "      \"default\": \"labels.txt\",\n",
      "      \"optional\": false,\n",
      "      \"type\": \"string\"\n",
      "    },\n",
      "    \"model_assets_path\": {\n",
      "      \"optional\": false,\n",
      "      \"type\": \"path\"\n",
      "    },\n",
      "    \"model_file_name\": {\n",
      "      \"default\": \"model.pth\",\n",
      "      \"optional\": false,\n",
      "      \"type\": \"string\"\n",
      "    },\n",
      "    \"model_name\": {\n",
      "      \"default\": \"marvel-classification\",\n",
      "      \"optional\": false,\n",
      "      \"type\": \"string\"\n",
      "    }\n",
      "  },\n",
      "  \"is_deterministic\": true,\n",
      "  \"name\": \"pytorch_register_model\",\n",
      "  \"resourceGroup\": \"personalFree\",\n",
      "  \"resources\": {\n",
      "    \"instance_count\": 1\n",
      "  },\n",
      "  \"type\": \"command\",\n",
      "  \"version\": \"1.1\"\n",
      "}\n",
      "\u001b[0m"
     ]
    }
   ],
   "source": [
    "!az ml component create --file Components/register.yml"
   ]
  },
  {
   "cell_type": "code",
   "execution_count": 39,
   "metadata": {},
   "outputs": [
    {
     "name": "stdout",
     "output_type": "stream",
     "text": [
      "Overwriting Pipeline/trainings_pipeline.yml\n"
     ]
    }
   ],
   "source": [
    "%%writefile 'Pipeline/trainings_pipeline.yml'\n",
    "$schema: https://azuremlschemas.azureedge.net/latest/pipelineJob.schema.json\n",
    "type: pipeline\n",
    "experiment_name: pyTorch-Pipeline\n",
    "description: Pipeline to create a Lego Classifier in PyTorch\n",
    "display_name: Pipeline - Test\n",
    "\n",
    "settings:\n",
    "  default_datastore: azureml:workspaceartifactstore\n",
    "  default_compute: azureml:testPytorch\n",
    "\n",
    "inputs:\n",
    "  training_data:\n",
    "    mode: ro_mount\n",
    "    path: azureml:LegoCharsV2:1\n",
    "\n",
    "jobs:\n",
    "  train_model:\n",
    "    type: command\n",
    "    component: azureml:pytorch_train_model:1.2\n",
    "    inputs:\n",
    "      training_data: ${{parent.inputs.training_data}}\n",
    "      epochs: 8\n",
    "      tag: \"Train-1\"\n",
    "    outputs:\n",
    "      train_output: \n",
    "        mode: upload\n",
    "      \n",
    "  register_pytorch:\n",
    "    type: command\n",
    "    component: azureml:pytorch_register_model:1.1\n",
    "    inputs:\n",
    "      model_assets_path: ${{parent.jobs.train_model.outputs.train_output}}\n",
    "      model_name: \"lego-pytorch-classification\"\n",
    "      model_file_name: \"model.pth\""
   ]
  },
  {
   "cell_type": "code",
   "execution_count": 40,
   "metadata": {},
   "outputs": [
    {
     "name": "stdout",
     "output_type": "stream",
     "text": [
      "Class AutoDeleteSettingSchema: This is an experimental class, and may change at any time. Please see https://aka.ms/azuremlexperimental for more information.\n",
      "Class AutoDeleteConditionSchema: This is an experimental class, and may change at any time. Please see https://aka.ms/azuremlexperimental for more information.\n",
      "Class BaseAutoDeleteSettingSchema: This is an experimental class, and may change at any time. Please see https://aka.ms/azuremlexperimental for more information.\n",
      "Class IntellectualPropertySchema: This is an experimental class, and may change at any time. Please see https://aka.ms/azuremlexperimental for more information.\n",
      "Class ProtectionLevelSchema: This is an experimental class, and may change at any time. Please see https://aka.ms/azuremlexperimental for more information.\n",
      "Class BaseIntellectualPropertySchema: This is an experimental class, and may change at any time. Please see https://aka.ms/azuremlexperimental for more information.\n",
      "{\n",
      "  \"creation_context\": {\n",
      "    \"created_at\": \"2024-06-22T20:35:14.510255+00:00\",\n",
      "    \"created_by\": \"Jinay Bhavsar\",\n",
      "    \"created_by_type\": \"User\"\n",
      "  },\n",
      "  \"description\": \"Pipeline to create a Lego Classifier in PyTorch\",\n",
      "  \"display_name\": \"Pipeline - Test\",\n",
      "  \"experiment_name\": \"pyTorch-Pipeline\",\n",
      "  \"id\": \"azureml:/subscriptions/22419d70-5fbf-470c-8901-9f39256512ed/resourceGroups/personalFree/providers/Microsoft.MachineLearningServices/workspaces/testWorkspace/jobs/bubbly_knot_2yrv5r6qty\",\n",
      "  \"inputs\": {\n",
      "    \"training_data\": {\n",
      "      \"mode\": \"ro_mount\",\n",
      "      \"path\": \"azureml:LegoCharsV2:1\",\n",
      "      \"type\": \"uri_folder\"\n",
      "    }\n",
      "  },\n",
      "  \"jobs\": {\n",
      "    \"register_pytorch\": {\n",
      "      \"component\": \"azureml:pytorch_register_model:1.1\",\n",
      "      \"inputs\": {\n",
      "        \"model_assets_path\": {\n",
      "          \"path\": \"${{parent.jobs.train_model.outputs.train_output}}\"\n",
      "        },\n",
      "        \"model_file_name\": \"model.pth\",\n",
      "        \"model_name\": \"lego-pytorch-classification\"\n",
      "      },\n",
      "      \"type\": \"command\"\n",
      "    },\n",
      "    \"train_model\": {\n",
      "      \"component\": \"azureml:pytorch_train_model:1.2\",\n",
      "      \"inputs\": {\n",
      "        \"epochs\": \"8\",\n",
      "        \"tag\": \"Train-1\",\n",
      "        \"training_data\": {\n",
      "          \"path\": \"${{parent.inputs.training_data}}\"\n",
      "        }\n",
      "      },\n",
      "      \"outputs\": {\n",
      "        \"train_output\": {\n",
      "          \"mode\": \"upload\",\n",
      "          \"type\": \"uri_folder\"\n",
      "        }\n",
      "      },\n",
      "      \"type\": \"command\"\n",
      "    }\n",
      "  },\n",
      "  \"name\": \"bubbly_knot_2yrv5r6qty\",\n",
      "  \"properties\": {\n",
      "    \"azureml.git.dirty\": \"True\",\n",
      "    \"mlflow.source.git.branch\": \"main\",\n",
      "    \"mlflow.source.git.commit\": \"106e833f5902ff2440b2e74ad1bf4604effec6fb\",\n",
      "    \"mlflow.source.git.repoURL\": \"https://github.com/jbhavsar27/mlops-pytorch-azure-pipelines\"\n",
      "  },\n",
      "  \"resourceGroup\": \"personalFree\",\n",
      "  \"services\": {\n",
      "    \"Studio\": {\n",
      "      \"endpoint\": \"https://ml.azure.com/runs/bubbly_knot_2yrv5r6qty?wsid=/subscriptions/22419d70-5fbf-470c-8901-9f39256512ed/resourcegroups/personalFree/workspaces/testWorkspace&tid=f90fa0cd-5723-45f6-a6a1-ae0b8eb9a56e\",\n",
      "      \"type\": \"Studio\"\n",
      "    },\n",
      "    \"Tracking\": {\n",
      "      \"endpoint\": \"azureml://eastus.api.azureml.ms/mlflow/v1.0/subscriptions/22419d70-5fbf-470c-8901-9f39256512ed/resourceGroups/personalFree/providers/Microsoft.MachineLearningServices/workspaces/testWorkspace?\",\n",
      "      \"type\": \"Tracking\"\n",
      "    }\n",
      "  },\n",
      "  \"settings\": {\n",
      "    \"default_compute\": \"azureml:testPytorch\",\n",
      "    \"default_datastore\": \"azureml:workspaceartifactstore\"\n",
      "  },\n",
      "  \"status\": \"NotStarted\",\n",
      "  \"type\": \"pipeline\"\n",
      "}\n",
      "\u001b[0m"
     ]
    }
   ],
   "source": [
    "!az ml job create --file Pipeline/trainings_pipeline.yml"
   ]
  },
  {
   "cell_type": "code",
   "execution_count": 14,
   "metadata": {},
   "outputs": [
    {
     "name": "stdout",
     "output_type": "stream",
     "text": [
      "Overwriting Deployment/deployment.yml\n"
     ]
    }
   ],
   "source": [
    "%%writefile 'Deployment/deployment.yml'\n",
    "$schema: https://azuremlschemas.azureedge.net/latest/managedOnlineDeployment.schema.json\n",
    "endpoint_name: testPytorch\n",
    "name: pipeline-lego-pytorch-1-\n",
    "app_insights_enabled: true\n",
    "model: azureml:lego-pytorch-classification:1\n",
    "code_configuration:\n",
    "  code: ./\n",
    "  scoring_script: score.py\n",
    "environment: azureml:AzureML-pytorch-1.7-ubuntu18.04-py37-cpu-inference:32\n",
    "instance_type: Standard_F8s_v2\n",
    "instance_count: 1"
   ]
  },
  {
   "cell_type": "code",
   "execution_count": 15,
   "metadata": {},
   "outputs": [
    {
     "name": "stdout",
     "output_type": "stream",
     "text": [
      "Check: endpoint testPytorch exists\n",
      "\u001b[91m(ResourceNotFound) The Resource 'Microsoft.MachineLearningServices/workspaces/testWorkspace/onlineEndpoints/testPytorch' under resource group 'personalFree' was not found. For more details please go to https://aka.ms/ARMResourceNotFoundFix\n",
      "Code: ResourceNotFound\n",
      "Message: The Resource 'Microsoft.MachineLearningServices/workspaces/testWorkspace/onlineEndpoints/testPytorch' under resource group 'personalFree' was not found. For more details please go to https://aka.ms/ARMResourceNotFoundFix\u001b[0m\n",
      "\u001b[0m"
     ]
    }
   ],
   "source": [
    "!az ml online-deployment create --file Deployment/deployment.yml"
   ]
  },
  {
   "cell_type": "code",
   "execution_count": 41,
   "metadata": {},
   "outputs": [
    {
     "name": "stdout",
     "output_type": "stream",
     "text": [
      "Writing test-images.txt\n"
     ]
    }
   ],
   "source": [
    "%%writefile 'test-images.txt'\n",
    "https://github.com/jbhavsar27/mlops-pytorch-azure-pipelines/blob/1300873c6c24244ff902673ca4d6c8130b3db0fd/prototyping/test-images/005.jpg\n",
    "https://github.com/jbhavsar27/mlops-pytorch-azure-pipelines/blob/1300873c6c24244ff902673ca4d6c8130b3db0fd/prototyping/test-images/007.jpg\n",
    "https://github.com/jbhavsar27/mlops-pytorch-azure-pipelines/blob/1300873c6c24244ff902673ca4d6c8130b3db0fd/prototyping/test-images/009.jpg\n",
    "https://github.com/jbhavsar27/mlops-pytorch-azure-pipelines/blob/1300873c6c24244ff902673ca4d6c8130b3db0fd/prototyping/test-images/012.jpg\n",
    "https://github.com/jbhavsar27/mlops-pytorch-azure-pipelines/blob/1300873c6c24244ff902673ca4d6c8130b3db0fd/prototyping/test-images/031.jpg\n",
    "https://github.com/jbhavsar27/mlops-pytorch-azure-pipelines/blob/1300873c6c24244ff902673ca4d6c8130b3db0fd/prototyping/test-images/032.jpg\n",
    "https://github.com/jbhavsar27/mlops-pytorch-azure-pipelines/blob/1300873c6c24244ff902673ca4d6c8130b3db0fd/prototyping/test-images/033.jpg\n",
    "https://github.com/jbhavsar27/mlops-pytorch-azure-pipelines/blob/1300873c6c24244ff902673ca4d6c8130b3db0fd/prototyping/test-images/040.jpg\n",
    "https://github.com/jbhavsar27/mlops-pytorch-azure-pipelines/blob/1300873c6c24244ff902673ca4d6c8130b3db0fd/prototyping/test-images/041.jpg"
   ]
  },
  {
   "cell_type": "code",
   "execution_count": null,
   "metadata": {},
   "outputs": [],
   "source": []
  }
 ],
 "metadata": {
  "kernelspec": {
   "display_name": "Python 3",
   "language": "python",
   "name": "python3"
  },
  "language_info": {
   "codemirror_mode": {
    "name": "ipython",
    "version": 3
   },
   "file_extension": ".py",
   "mimetype": "text/x-python",
   "name": "python",
   "nbconvert_exporter": "python",
   "pygments_lexer": "ipython3",
   "version": "3.8.undefined"
  }
 },
 "nbformat": 4,
 "nbformat_minor": 2
}
